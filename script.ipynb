print("The logic for the project will be executed in this jupyter script")
